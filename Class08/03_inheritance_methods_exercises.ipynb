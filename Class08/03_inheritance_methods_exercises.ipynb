{
 "cells": [
  {
   "cell_type": "markdown",
   "metadata": {},
   "source": [
    "- - - \n",
    "<!--NAVIGATION-->\n",
    "Module 8. | [Inheritance & Methods](./01_oop_inheritance.ipynb) | [Half Way Knowledge Test](./04_Half_Way_Review.ipynb) | **[Homework Answers](./03_inheritance_methods_exercises.ipynb)**"
   ]
  },
  {
   "cell_type": "markdown",
   "metadata": {},
   "source": [
    "What is Due on Tuesday Feb 9th?\n",
    "- Module 8 Homework ( put it in your git hub repo )\n",
    "- The video project (put it in your git hub repo )\n",
    "- Test Assesment 4\n",
    "- Do the half way knowledge test on your own, maybe even make flash cards and keep testing yourself so that by week 8 you can answer it easily. "
   ]
  },
  {
   "cell_type": "markdown",
   "metadata": {},
   "source": [
    "# Module 8: Practice Exercises"
   ]
  },
  {
   "cell_type": "markdown",
   "metadata": {},
   "source": [
    "## Exercise 1. "
   ]
  },
  {
   "cell_type": "markdown",
   "metadata": {},
   "source": [
    "You are given two classes, Person and Student, where Person is the base class and Student is the derived class. Completed code for Person and a declaration for Student are provided for you in the editor. Observe that Student inherits all the properties of Person.\n",
    "\n",
    "Complete the Student class by writing the following:\n",
    "\n",
    "A Student class constructor, which has 4 parameters:\n",
    "- A string, firstName\n",
    "- A string, lastName\n",
    "- An integer, id\n",
    "An integer array (or vector) of test scores, scores\n",
    "\n",
    "A char **calculate()** method that calculates a Student object's average and returns the grade character representative of their calculated average:\n",
    "```\n",
    "A | 90-100\n",
    "B | 80-89\n",
    "C | 70-79\n",
    "D | 60-69\n",
    "F | <60\n",
    "```"
   ]
  },
  {
   "cell_type": "code",
   "execution_count": 1,
   "metadata": {},
   "outputs": [],
   "source": [
    "# define the Vehicle class\n",
    "\n",
    "class Person:\n",
    "    fname = \"\"\n",
    "    lname = \"\"\n",
    "    def desc(self):\n",
    "        desc_person = \"%s %s is a person.\" % (self.fname, self.lname)\n",
    "        return desc_person\n",
    "\n",
    "class Student(Person):\n",
    "      def desc(self):\n",
    "          desc_person = \"%s %s is a student.\" % (self.fname, self.lname)\n",
    "          return desc_person\n",
    "        \n",
    "class Grades(Student):\n",
    "      def desc(self):\n",
    "           desc_person = \"%s %s has grades.\" % (self.fname, self.lname)\n",
    "           return desc_person\n",
    "\n",
    "# your code goes here\n",
    "person1 = Person()\n",
    "person1.fname = \"Marissa\"\n",
    "person1.lname = \"Robinson\"\n",
    "\n",
    "person2 = Student()\n",
    "person2.fname = \"Marissa\"\n",
    "person2.lname = \"Robinson\"\n",
    "\n",
    "person3 = Grades()\n",
    "person3.fname = \"Marissa\"\n",
    "person3.lname = \"Robinson\""
   ]
  },
  {
   "cell_type": "code",
   "execution_count": 2,
   "metadata": {},
   "outputs": [
    {
     "name": "stdout",
     "output_type": "stream",
     "text": [
      "Marissa Robinson is a person.\n",
      "Marissa Robinson is a student.\n",
      "Marissa Robinson has grades.\n"
     ]
    }
   ],
   "source": [
    "# test code\n",
    "print(person1.desc())\n",
    "print(person2.desc())\n",
    "print(person3.desc())"
   ]
  },
  {
   "cell_type": "code",
   "execution_count": 3,
   "metadata": {},
   "outputs": [],
   "source": [
    "class Person:\n",
    "    \n",
    "    def __init__(self,fname,lname):\n",
    "        self.fname = fname\n",
    "        self.lname = lname\n",
    "        \n",
    "class Student(Person):\n",
    "    \n",
    "    def __init__(self, fname, lname, student_id):\n",
    "        self.id = int(student_id)\n",
    "        Person.__init__(self, fname, lname)\n",
    "        \n",
    "    def calculate(self,list):\n",
    "        points = 0\n",
    "        total = len(list)\n",
    "        \n",
    "        for num in list:\n",
    "            points = points + num\n",
    "            \n",
    "        gpa = points/total\n",
    "        \n",
    "        if gpa >= 90 and gpa <= 100:\n",
    "            print(self.fname + \" \" + self.lname + \" \" + \"Student ID \" + str(self.id) + \", you got an A.\")\n",
    "        elif gpa >= 80 and gpa <= 89:\n",
    "            print(self.fname + \" \" + self.lname + \" \" + \"Student ID \" + str(self.id) + \", you got a B.\")\n",
    "        elif gpa >= 70 and gpa <= 79:\n",
    "            print(self.fname + \" \" + self.lname + \" \" + \"Student ID \" + str(self.id) + \", you got a C.\")\n",
    "        elif gpa >= 60 and gpa <= 69:\n",
    "            print(self.fname + \" \" + self.lname + \" \" + \"Student ID \" + str(self.id) + \", you got a D.\")\n",
    "        elif gpa < 60:\n",
    "            print(self.fname + \" \" + self.lname + \" \" + \"Student ID \" + str(self.id) + \", you got an F.\")"
   ]
  },
  {
   "cell_type": "code",
   "execution_count": 5,
   "metadata": {},
   "outputs": [
    {
     "name": "stdout",
     "output_type": "stream",
     "text": [
      "First name: Marissa\n",
      "Last name: Robinson\n",
      "Student ID: 6678990\n",
      "Enter a list grades separated by space: 67 89 99 34 100 100 87\n",
      "Marissa Robinson Student ID 6678990, you got a B.\n"
     ]
    }
   ],
   "source": [
    "person1 = Student(str(input(\"First name: \")),str(input(\"Last name: \")), int(input(\"Student ID: \")))\n",
    "grades = input(\"Enter a list grades separated by space: \")\n",
    "grades = list(map(int, grades.split()))\n",
    "person1.calculate(grades)"
   ]
  }
 ],
 "metadata": {
  "kernelspec": {
   "display_name": "Python 3",
   "language": "python",
   "name": "python3"
  },
  "language_info": {
   "codemirror_mode": {
    "name": "ipython",
    "version": 3
   },
   "file_extension": ".py",
   "mimetype": "text/x-python",
   "name": "python",
   "nbconvert_exporter": "python",
   "pygments_lexer": "ipython3",
   "version": "3.7.1"
  }
 },
 "nbformat": 4,
 "nbformat_minor": 4
}
