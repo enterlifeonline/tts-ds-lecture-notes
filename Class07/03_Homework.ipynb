{
 "cells": [
  {
   "cell_type": "markdown",
   "metadata": {},
   "source": [
    "\n",
    "- - - \n",
    "<!--NAVIGATION-->\n",
    "Module 7. | [Reg Ex Review](./00_Review_Quiz.ipynb) | [Objects and Classes](./01_obj_classes.ipynb) | [Examples of Objects and Classes](./02_ex_obj_classes.ipynb) | **[Homework](./03_Homework.ipynb)**"
   ]
  },
  {
   "cell_type": "markdown",
   "metadata": {},
   "source": [
    "# Homework"
   ]
  },
  {
   "cell_type": "markdown",
   "metadata": {},
   "source": [
    "1. Module 7 Homework \n",
    "2. Review material for class on thursday ( there are youtube videos on Titus ) "
   ]
  }
 ],
 "metadata": {
  "kernelspec": {
   "display_name": "Python 3",
   "language": "python",
   "name": "python3"
  },
  "language_info": {
   "codemirror_mode": {
    "name": "ipython",
    "version": 3
   },
   "file_extension": ".py",
   "mimetype": "text/x-python",
   "name": "python",
   "nbconvert_exporter": "python",
   "pygments_lexer": "ipython3",
   "version": "3.7.1"
  }
 },
 "nbformat": 4,
 "nbformat_minor": 4
}
