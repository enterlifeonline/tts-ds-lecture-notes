{
 "cells": [
  {
   "cell_type": "markdown",
   "metadata": {},
   "source": [
    "## Homework Due on Tuesday\n",
    "*** \n",
    "<!--NAVIGATION-->\n",
    "Module 2. Python Data | [Simple Types](./01_simple_types.ipynb) | [Data Structures](./02_data_structures.ipynb) | [Data Structures](./02_data_structures.ipynb) |[Homework](./03_Homework.ipynb) | [Homework Answers](./03_data_exercises.ipynb)"
   ]
  },
  {
   "cell_type": "markdown",
   "metadata": {},
   "source": [
    "1. Data Structures Exercise ( Remember you just submit your github link )\n",
    "2. Test assement #1 ( Remember that you only get one chance and it is timed \n",
    "3. Use the weekend to get a better grasp on Github, Jupyter Notebook, and the topics taught this week\n",
    "4. Create a 10 Question Quiz that reviews the material learned this week. ( Do not put the answers on the quiz, but you need to know what the answers are ) \n",
    "5. Choose any episode to listen to from the podcast \" Data Skeptic \""
   ]
  }
 ],
 "metadata": {
  "kernelspec": {
   "display_name": "Python 3",
   "language": "python",
   "name": "python3"
  },
  "language_info": {
   "codemirror_mode": {
    "name": "ipython",
    "version": 3
   },
   "file_extension": ".py",
   "mimetype": "text/x-python",
   "name": "python",
   "nbconvert_exporter": "python",
   "pygments_lexer": "ipython3",
   "version": "3.7.1"
  }
 },
 "nbformat": 4,
 "nbformat_minor": 4
}
