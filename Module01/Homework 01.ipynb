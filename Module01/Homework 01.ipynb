{
 "cells": [
  {
   "cell_type": "markdown",
   "metadata": {},
   "source": [
    "# Homework 01\n",
    " [Getting Started With Github](./Getting%20Started%20with%20Git%20Hub.ipynb) | [Anaconda](./Anaconda.ipynb) | [Jupyer Notebook](./Jupyter%20Notebook.ipynb) |[Data Science](./Data%20Science.ipynb) | [Introducing Python](./Introducing%20Python.ipynb) | [Homework01](./Homework%2001.ipynb)\n",
    "\n",
    "***"
   ]
  },
  {
   "cell_type": "markdown",
   "metadata": {},
   "source": [
    "**1. Create a Git hub Repository for this class**   \n",
    "    - Please have a seperate [folder](https://github.community/t/add-a-folder/2304) for each class that will hold your lecture notes and homework<br>\n",
    "    - Please have a ReadME file that introduces who you are and why you are taking this class <br>\n",
    "    - You can add each of my files to your github repo! Then review them <br> \n",
    "    - This is yours, have fun with it! <br>\n",
    "    - reccomendation to complete [Git Hubs Hello World Project](https://guides.github.com/activities/hello-world/)\n",
    "    \n",
    "**2. Complete the python basics practice assignment that can be found in Titus**<br>\n",
    "    - Your submission should simply be a link to your github repository <br>\n",
    "    - Rewrite the quetions on a jupyter notebook file and answer them there <br>\n",
    "    - Please understand that I WANT YOU TO GOOGLE!. I want you to have some go to places for python questions that are reliable. This is not all about memorization, its about knowing how to find the answer to your questions quickly.  <br>\n",
    "    \n",
    "**3. Review the documentation under the \"Resources\" tab in Titus**<br>\n",
    "\n",
    "**4. Listen to a podcast** *(we will go through a rotation of podcast so you can get exposure to podcast related to Data Science)*<br>\n",
    "    - Podcast Name: Super Data Science <br>\n",
    "    - Choose any episode you want! <br>\n",
    "    - Take notes and bring back a summarization for our discussion time on thursday! <br>\n",
    "    \n",
    "**5. Read this article** \n",
    "- https://www.innoarchitech.com/blog/what-is-data-science-does-data-scientist-do"
   ]
  },
  {
   "cell_type": "code",
   "execution_count": null,
   "metadata": {},
   "outputs": [],
   "source": []
  }
 ],
 "metadata": {
  "kernelspec": {
   "display_name": "Python 3",
   "language": "python",
   "name": "python3"
  },
  "language_info": {
   "codemirror_mode": {
    "name": "ipython",
    "version": 3
   },
   "file_extension": ".py",
   "mimetype": "text/x-python",
   "name": "python",
   "nbconvert_exporter": "python",
   "pygments_lexer": "ipython3",
   "version": "3.8.5"
  }
 },
 "nbformat": 4,
 "nbformat_minor": 4
}
