{
 "cells": [
  {
   "cell_type": "markdown",
   "metadata": {},
   "source": [
    "# Getting Started with Git Hub\n",
    " [Getting Started With Github](./Getting%20Started%20with%20Git%20Hub.ipynb) | [Anaconda](./Anaconda.ipynb) | [Jupyer Notebook](./Jupyter%20Notebook.ipynb) |[Data Science](./Data%20Science.ipynb) | [Introducing Python](./Introducing%20Python.ipynb) | [Homework01](./Homework%2001.ipynb)\n",
    "\n",
    "***"
   ]
  },
  {
   "cell_type": "markdown",
   "metadata": {},
   "source": [
    "### What is Git Hub"
   ]
  },
  {
   "cell_type": "markdown",
   "metadata": {},
   "source": [
    "GitHub is a code hosting platform for version control and collaboration. It lets you and others work together on projects from anywhere.Git is a program that tracks changes made to files. Once installed, Git can be initialized on a project to create a Git repository.\n",
    "\n",
    "A Git repository is the .git/ folder inside a project. This repository tracks all changes made to files in your project, building a history over time. Meaning, if you delete the .git/ folder, then you delete your project’s history.A quick aside: git and GitHub are not the same thing. Git is an open-source, version control tool created in 2005 by developers working on the Linux operating system; GitHub is a company founded in 2008 that makes tools which integrate with git. You do not need GitHub to use git, but you cannot use GitHub without using git. There are many other alternatives to GitHub, such as GitLab, BitBucket, and “host-your-own” solutions such as gogs and gittea. All of these are referred to in git-speak as “remotes”, and all are completely optional. You do not need to use a remote to use git, but it will make sharing your code with others easier.\n",
    "\n",
    "\n",
    "The “Hub” in GitHub\n",
    "We’ve established that Git is a version control system, similar but better than the many alternatives available. So, what makes GitHub so special? Git is a command-line tool, but the center around which all things involving Git revolve, is the hub—GitHub.com—where developers store their projects and network with like minded people.\n",
    "\n",
    "Let’s go over a few of the main reasons that geeks like to use GitHub, and learn some terminology along the way."
   ]
  },
  {
   "cell_type": "markdown",
   "metadata": {},
   "source": [
    "**Repository** or **Repo** is a folder that contains all the project files and the history of the revisions made to each file. There are two repositories of your project that you will work with throughout the lifetime of your project – Remote repo and Local repo:\n",
    "\n",
    "- Remote repo contains your project that can be accessed from anywhere and by anyone. Your remote repository lives on the GitHub server and anybody can access them\n",
    "- Local repo is a copy of the remote repo that resides on your local machine. All the changes you make will be saved in your local repo. Your fellow developers will not be able to see them yet until you push them to the remote repo\n",
    "\n",
    "**Cloning** means creating a copy of the remote repo on your local machine. Now you can make changes to the project on your local machine.\n",
    "\n",
    "When you **commit** a change, you save the changes you made to your files in the repo. When working with Git from your local machine, using the commit command will save your files in the local repo. To make those changes in the remote repo, you will use the push command.\n",
    "\n",
    "The **Push** command allows you to transfer all the changes on your local repo to the remote repo. Now all the fellow developers will have access to the changes you made and they can update their local repositories.\n",
    "\n",
    "If push meant transferring code to the remote repo, the **Pull** command allows you to transfer all the changes from the remote repo to your local repo. So any changes that your fellow developer pushed to the remote repo, you can transfer them to your local repo using the pull command.\n",
    "\n",
    "Git hub is something you will get comfortable with the more you use it, so be sure to play around with it after class!"
   ]
  }
 ],
 "metadata": {
  "kernelspec": {
   "display_name": "Python 3",
   "language": "python",
   "name": "python3"
  },
  "language_info": {
   "codemirror_mode": {
    "name": "ipython",
    "version": 3
   },
   "file_extension": ".py",
   "mimetype": "text/x-python",
   "name": "python",
   "nbconvert_exporter": "python",
   "pygments_lexer": "ipython3",
   "version": "3.7.1"
  }
 },
 "nbformat": 4,
 "nbformat_minor": 4
}
