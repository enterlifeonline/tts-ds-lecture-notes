{
 "cells": [
  {
   "cell_type": "markdown",
   "metadata": {},
   "source": [
    "- - - \n",
    "<!--NAVIGATION-->\n",
    "Module 6. | [Generators](./01_generators.ipynb) | [Regular Expressions](./02_regex.ipynb) | [String Manipulation & Regular Expressions](03_str_manipulate.ipynb) | [Closures & Generators](./04_closures_generators.ipynb) | **[Homework](./05_Homework.ipynb)**"
   ]
  },
  {
   "cell_type": "markdown",
   "metadata": {},
   "source": [
    "## Homework Due on Tuesday "
   ]
  },
  {
   "cell_type": "markdown",
   "metadata": {},
   "source": [
    "- Module 6 Homework Assignment \n",
    "- Test Assesment 3 \n",
    "- Review the youtube videos on Module 7 & 8 \n",
    "- Quiz yourself with material we have covered in week 1, 2, and 3! "
   ]
  }
 ],
 "metadata": {
  "kernelspec": {
   "display_name": "Python 3",
   "language": "python",
   "name": "python3"
  },
  "language_info": {
   "codemirror_mode": {
    "name": "ipython",
    "version": 3
   },
   "file_extension": ".py",
   "mimetype": "text/x-python",
   "name": "python",
   "nbconvert_exporter": "python",
   "pygments_lexer": "ipython3",
   "version": "3.7.1"
  }
 },
 "nbformat": 4,
 "nbformat_minor": 4
}
