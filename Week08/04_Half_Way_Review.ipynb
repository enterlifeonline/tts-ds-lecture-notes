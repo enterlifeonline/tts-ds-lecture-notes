{
 "cells": [
  {
   "cell_type": "markdown",
   "metadata": {},
   "source": [
    "- - - \n",
    "<!--NAVIGATION-->\n",
    "Module 8. | [Inheritance & Methods](./01_oop_inheritance.ipynb) | **[Half Way Knowledge Test](./04_Half_Way_Review.ipynb)** | [Homework Answers](./03_inheritance_methods_exercises.ipynb)"
   ]
  },
  {
   "cell_type": "markdown",
   "metadata": {},
   "source": [
    "## Questions you should be able to answer\n",
    "Try to answer all of these questions without looking anything up, Then notate which ones you could not answer and then answer them "
   ]
  },
  {
   "cell_type": "markdown",
   "metadata": {},
   "source": [
    "- What is Python? What are the benefits of using Python?\n",
    "- How Python is interpreted?\n",
    "- What is the difference between list and tuple?\n",
    "- How are arguments passed by value or by reference?\n",
    "- What is Dict and List comprehensions?\n",
    "- What are the built-in type does python provides?\n",
    "- What is namespace in Python?\n",
    "- What is lambda in Python?\n",
    "- In Python what are iterators?\n",
    "- In Python what is slicing?\n",
    "- What are generators in Python?\n",
    "- What is docstring in Python?\n",
    "- What is negative index in Python?\n",
    "- Mention what are the rules for local and global variables in Python?\n",
    "- Explain how can you generate random numbers in Python?\n",
    "- What are python modules? Name some commonly used built-in modules in Python?\n",
    "- Mention five benefits of using Python?\n",
    "- Is Python case sensitive? \n"
   ]
  }
 ],
 "metadata": {
  "kernelspec": {
   "display_name": "Python 3",
   "language": "python",
   "name": "python3"
  },
  "language_info": {
   "codemirror_mode": {
    "name": "ipython",
    "version": 3
   },
   "file_extension": ".py",
   "mimetype": "text/x-python",
   "name": "python",
   "nbconvert_exporter": "python",
   "pygments_lexer": "ipython3",
   "version": "3.7.1"
  }
 },
 "nbformat": 4,
 "nbformat_minor": 4
}
