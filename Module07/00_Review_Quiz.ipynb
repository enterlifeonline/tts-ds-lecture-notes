{
 "cells": [
  {
   "cell_type": "markdown",
   "metadata": {},
   "source": [
    "\n",
    "- - - \n",
    "<!--NAVIGATION-->\n",
    "Module 7. | **[Reg Ex Review](./00_Review_Quiz.ipynb)** | [Objects and Classes](./01_obj_classes.ipynb) | [Examples of Objects and Classes](./02_ex_obj_classes.ipynb) | [Homework](./03_Homework.ipynb)"
   ]
  },
  {
   "cell_type": "markdown",
   "metadata": {},
   "source": [
    "## Regular Expression Review Quiz "
   ]
  },
  {
   "cell_type": "markdown",
   "metadata": {},
   "source": [
    "Please discuss as a class on that the answer might be and why! "
   ]
  },
  {
   "cell_type": "markdown",
   "metadata": {},
   "source": [
    "1. Which module in Python supports regular expressions? <br>\n",
    "a) re <br>\n",
    "b) regex <br>\n",
    "c) pyregex <br>\n",
    "d) none of the mentioned <br>"
   ]
  },
  {
   "cell_type": "markdown",
   "metadata": {},
   "source": [
    "2. Which of the following creates a pattern object? <br>\n",
    "a) re.create(str) <br>\n",
    "b) re.regex(str) <br>\n",
    "c) re.compile(str) <br>\n",
    "d) re.assemble(str) <br>"
   ]
  },
  {
   "cell_type": "markdown",
   "metadata": {},
   "source": [
    "3. What does the function re.match do? <br>\n",
    "a) matches a pattern at the start of the string <br>\n",
    "b) matches a pattern at any position in the string <br>\n",
    "c) such a function does not exist <br>\n",
    "d) none of the mentioned <br>"
   ]
  },
  {
   "cell_type": "markdown",
   "metadata": {},
   "source": [
    "4. What does the function re.search do? <br>\n",
    "a) matches a pattern at the start of the string <br>\n",
    "b) matches a pattern at any position in the string <br>\n",
    "c) such a function does not exist <br>\n",
    "d) none of the mentioned <br>"
   ]
  },
  {
   "cell_type": "markdown",
   "metadata": {},
   "source": [
    "5. What will be the output of the following Python code? <br>\n",
    "`sentence = 'we are humans'\n",
    "matched = re.match(r'(.*) (.*?) (.*)', sentence)\n",
    "print(matched.groups())` <br>\n",
    "a) (‘we’, ‘are’, ‘humans’) <br>\n",
    "b) (we, are, humans) <br>\n",
    "c) (‘we’, ‘humans’) <br>\n",
    "d) ‘we are humans’ <br>"
   ]
  },
  {
   "cell_type": "markdown",
   "metadata": {},
   "source": [
    "6. What will be the output of the following Python code? <br>\n",
    "`sentence = 'we are humans'\n",
    "matched = re.match(r'(.*) (.*?) (.*)', sentence)\n",
    "print(matched.group())` <br>\n",
    "a) (‘we’, ‘are’, ‘humans’) <br>\n",
    "b) (we, are, humans) <br>\n",
    "c) (‘we’, ‘humans’) <br>\n",
    "d) ‘we are humans’ <br>"
   ]
  },
  {
   "cell_type": "markdown",
   "metadata": {},
   "source": [
    "7. What will be the output of the following Python code? <br>\n",
    "`sentence = 'we are humans'\n",
    "matched = re.match(r'(.*) (.*?) (.*)', sentence)\n",
    "print(matched.group(2))` <br>\n",
    "a) ‘are’ <br>\n",
    "b) ‘we’ <br>\n",
    "c) ‘humans’ <br>\n",
    "d) ‘we are humans’ <br>"
   ]
  },
  {
   "cell_type": "markdown",
   "metadata": {},
   "source": [
    "8. What will be the output of the following Python code? <br>\n",
    "`sentence = 'horses are fast'\n",
    "regex = re.compile('(?P<animal>\\w+) (?P<verb>\\w+) (?P<adjective>\\w+)')\n",
    "matched = re.search(regex, sentence)\n",
    "print(matched.groupdict())` <br>\n",
    "a) {‘animal’: ‘horses’, ‘verb’: ‘are’, ‘adjective’: ‘fast’} <br>\n",
    "b) (‘horses’, ‘are’, ‘fast’) <br>\n",
    "c) ‘horses are fast’ <br>\n",
    "d) ‘are’ <br>"
   ]
  },
  {
   "cell_type": "markdown",
   "metadata": {},
   "source": [
    "9. What will be the output of the following Python code? <br>\n",
    "`sentence = 'horses are fast'\n",
    "regex = re.compile('(?P<animal>\\w+) (?P<verb>\\w+) (?P<adjective>\\w+)')\n",
    "matched = re.search(regex, sentence)\n",
    "print(matched.groups())` <br>\n",
    "a) {‘animal’: ‘horses’, ‘verb’: ‘are’, ‘adjective’: ‘fast’} <br>\n",
    "b) (‘horses’, ‘are’, ‘fast’) <br>\n",
    "c) ‘horses are fast’ <br>\n",
    "d) ‘are’ <br>"
   ]
  },
  {
   "cell_type": "markdown",
   "metadata": {},
   "source": [
    "10. What will be the output of the following Python code? <br>\n",
    "`sentence = 'horses are fast'\n",
    "regex = re.compile('(?P<animal>\\w+) (?P<verb>\\w+) (?P<adjective>\\w+)')\n",
    "matched = re.search(regex, sentence)\n",
    "print(matched.group(2))` <br>\n",
    "a) {‘animal’: ‘horses’, ‘verb’: ‘are’, ‘adjective’: ‘fast’} <br>\n",
    "b) (‘horses’, ‘are’, ‘fast’) <br>\n",
    "c) ‘horses are fast’ <br>\n",
    "d) ‘are’ <br>"
   ]
  },
  {
   "cell_type": "markdown",
   "metadata": {},
   "source": [
    "<div class=\"alert alert-block alert-danger\">\n",
    "<b>Alert:</b> Below are the answers, please do not look before attempting to answer on your own \n",
    "</div>"
   ]
  },
  {
   "cell_type": "markdown",
   "metadata": {},
   "source": [
    "## Quiz Answers\n",
    "1. Answer: a\n",
    "Explanation: re is a part of the standard library and can be imported using: import re.\n",
    "2. Answer: c\n",
    "Explanation: It converts a given string into a pattern object.\n",
    "3. Answer: a\n",
    "Explanation: It will look for the pattern at the beginning and return None if it isn’t found.\n",
    "4. Answer: b\n",
    "Explanation: It will look for the pattern at any position in the string.\n",
    "5. Answer: a\n",
    "Explanation: This function returns all the subgroups that have been matched.\n",
    "6. Answer: d\n",
    "Explanation: This function returns the entire match.\n",
    "7. Answer: c\n",
    "Explanation: This function returns the particular subgroup.\n",
    "8. Answer: a\n",
    "Explanation: This function returns a dictionary that contains all the matches.\n",
    "9. Answer: b\n",
    "Explanation: This function returns all the subgroups that have been matched.\n",
    "10. Answer: d\n",
    "Explanation: This function returns the particular subgroup."
   ]
  }
 ],
 "metadata": {
  "kernelspec": {
   "display_name": "Python 3",
   "language": "python",
   "name": "python3"
  },
  "language_info": {
   "codemirror_mode": {
    "name": "ipython",
    "version": 3
   },
   "file_extension": ".py",
   "mimetype": "text/x-python",
   "name": "python",
   "nbconvert_exporter": "python",
   "pygments_lexer": "ipython3",
   "version": "3.7.1"
  }
 },
 "nbformat": 4,
 "nbformat_minor": 4
}
