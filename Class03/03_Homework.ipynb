{
 "cells": [
  {
   "cell_type": "markdown",
   "metadata": {},
   "source": [
    "- - - \n",
    "<!--NAVIGATION-->\n",
    "Module 3. [Control Flow](./01_mod_control_flow.ipynb) | [Statements](./02_python_statements.ipynb) | [Functions](./03_python_functions.ipynb) |**[Homework](./03_Homework.ipynb)** | [Homework Answer](./04_mod_exercises.ipynb)\n",
    "<!--NAVIGATION-->\n",
    "Supplemental. [While Loops](./1_while-loop.ipynb) | [If Elif Else](./2_if-elif-else.ipynb) | [Break Continue](./3_break_continue.ipynb) | [For Loops](./4_for_loop.ipynb)\n"
   ]
  },
  {
   "cell_type": "markdown",
   "metadata": {},
   "source": [
    "## Due on Thursday "
   ]
  },
  {
   "cell_type": "markdown",
   "metadata": {},
   "source": [
    "- Control Flow exercise in Titus \n",
    "- Watch you tube video in Module 4 resources \n",
    "- Listen to any episode you want from the podcast \" Reply All \" \n",
    "( My personal fave episodes are The Snapchat Theif, The Founder, Case of the missing hit, Happiness Calculator vs Alex Goldman )"
   ]
  }
 ],
 "metadata": {
  "kernelspec": {
   "display_name": "Python 3",
   "language": "python",
   "name": "python3"
  },
  "language_info": {
   "codemirror_mode": {
    "name": "ipython",
    "version": 3
   },
   "file_extension": ".py",
   "mimetype": "text/x-python",
   "name": "python",
   "nbconvert_exporter": "python",
   "pygments_lexer": "ipython3",
   "version": "3.7.1"
  }
 },
 "nbformat": 4,
 "nbformat_minor": 4
}
