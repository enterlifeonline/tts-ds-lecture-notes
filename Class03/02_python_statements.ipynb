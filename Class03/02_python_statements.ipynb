{
 "cells": [
  {
   "cell_type": "markdown",
   "metadata": {},
   "source": [
    "- - - \n",
    "<!--NAVIGATION-->\n",
    "Module 3. [Control Flow](./01_mod_control_flow.ipynb) | **[Statements](./02_python_statements.ipynb)** | [Functions](./03_python_functions.ipynb) |[Homework](./03_Homework.ipynb) | [Homework Answer](./04_mod_exercises.ipynb)\n",
    "<!--NAVIGATION-->\n",
    "Supplemental. [While Loops](./1_while-loop.ipynb) | [If Elif Else](./2_if-elif-else.ipynb) | [Break Continue](./3_break_continue.ipynb) | [For Loops](./4_for_loop.ipynb)\n"
   ]
  },
  {
   "cell_type": "markdown",
   "metadata": {},
   "source": [
    "## Statements"
   ]
  },
  {
   "cell_type": "markdown",
   "metadata": {},
   "source": [
    "Statements are commands that have some effect. For example, a function call (that is not part of another expression) is a statement. Also, the variable assignment is a statement:"
   ]
  },
  {
   "cell_type": "code",
   "execution_count": 1,
   "metadata": {},
   "outputs": [],
   "source": [
    "i = 5\n",
    "i = i+1    # This is a common idiom to increment the value of i by one\n",
    "i += 1     # This is a short-hand for the above / to increment the value i by one"
   ]
  },
  {
   "cell_type": "code",
   "execution_count": 2,
   "metadata": {},
   "outputs": [
    {
     "name": "stdout",
     "output_type": "stream",
     "text": [
      "7\n"
     ]
    }
   ],
   "source": [
    "print(i)"
   ]
  },
  {
   "cell_type": "markdown",
   "metadata": {},
   "source": [
    "Note that in Python there are no operators ++ or -- unlike in some other languages."
   ]
  },
  {
   "cell_type": "markdown",
   "metadata": {},
   "source": [
    "It turns out that the operators "
   ]
  },
  {
   "cell_type": "raw",
   "metadata": {},
   "source": [
    "+ - * / // % & | ^ >> << **"
   ]
  },
  {
   "cell_type": "markdown",
   "metadata": {},
   "source": [
    "have the corresponding augmented assignment operators"
   ]
  },
  {
   "cell_type": "raw",
   "metadata": {},
   "source": [
    "+= -= *= /= //= %= &= |= ^= >>= <<= **="
   ]
  },
  {
   "cell_type": "markdown",
   "metadata": {},
   "source": [
    "Another large set of statements is the flow-control statements such as if-else, for and while loops. We will look into these in the next sections."
   ]
  }
 ],
 "metadata": {
  "kernelspec": {
   "display_name": "Python 3",
   "language": "python",
   "name": "python3"
  },
  "language_info": {
   "codemirror_mode": {
    "name": "ipython",
    "version": 3
   },
   "file_extension": ".py",
   "mimetype": "text/x-python",
   "name": "python",
   "nbconvert_exporter": "python",
   "pygments_lexer": "ipython3",
   "version": "3.7.1"
  }
 },
 "nbformat": 4,
 "nbformat_minor": 4
}
