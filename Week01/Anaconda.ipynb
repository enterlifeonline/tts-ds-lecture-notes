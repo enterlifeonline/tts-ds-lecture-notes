{
 "cells": [
  {
   "cell_type": "markdown",
   "metadata": {},
   "source": [
    "## Anaconda\n",
    " [Getting Started With Github](./Getting%20Started%20with%20Git%20Hub.ipynb) | [Anaconda](./Anaconda.ipynb) | [Jupyer Notebook](./Jupyter%20Notebook.ipynb) |[Data Science](./Data%20Science.ipynb) | [Introducing Python](./Introducing%20Python.ipynb) | [Homework01](./Homework%2001.ipynb)\n",
    "\n",
    "***"
   ]
  },
  {
   "cell_type": "markdown",
   "metadata": {},
   "source": [
    "### Installation "
   ]
  },
  {
   "cell_type": "markdown",
   "metadata": {},
   "source": [
    "Tech Talent South Data Science: [Python Setup and Installation Checklist](https://qlx.services/institute/files/datascience/TTSDataScienceChecklistPython.pdf)\n",
    "\n",
    "Please make sure you anaconda prompt installed for this class. Outside of class time you may also install [Anaconda Navigator](https://docs.anaconda.com/anaconda/navigator/getting-started/)"
   ]
  },
  {
   "cell_type": "markdown",
   "metadata": {},
   "source": [
    "### What is Anaconda? "
   ]
  },
  {
   "cell_type": "markdown",
   "metadata": {},
   "source": [
    "Anaconda is a Python-based data processing and scientific computing platform. It has built in many very useful third-party libraries. Installing Anaconda is equivalent to automatically installing Python and some commonly used libraries such as Numpy, Pandas, Scrip, and Matplotlib, so it makes the installation so much easier than regular Python installation. If you don't install Anaconda, but instead only install Python from python.org, you also need to use pip to install various libraries one by one. It is painful and you need to consider compatibility, thus for this class we directly install Anaconda.\n",
    "\n",
    "\n",
    "Anaconda is a distribution of packages built for data science. It comes with conda, a package, and environment manager. (*conda is the package manager. Anaconda is a set of about a hundred packages including conda, numpy, scipy, ipython notebook, and so on.*) We usually used conda to create environments for isolating our projects that use different versions of Python and/or different version of packages. We also use it to install, uninstall, and update packages in our project environments. When you download Anaconda for the first time it comes with conda, Python, and over 150 scientific packages and their dependencies. Anaconda is a fairly large download (~500 MB) because it comes with the most common data science packages in Python, for people who are conservative about disk space, there is also Miniconda, a smaller distribution that includes only conda and Python. You can still install any of the available packages with conda, that comes by default with the standard version. "
   ]
  },
  {
   "cell_type": "markdown",
   "metadata": {},
   "source": [
    "### What is the difference between anaconda prompt and command prompt\n",
    "\n",
    "Anaconda command prompt is just like command prompt, but it makes sure that you are able to use anaconda and conda commands from the prompt, without having to change directories or your path.\n",
    "\n",
    "When you start Anaconda command prompt, you'll notice that it adds/(\"prepends\") a bunch of locations to your PATH. These locations contain commands and scripts that you can run. So as long as you're in the Anaconda command prompt, you know you can use these commands.\n",
    "\n",
    "During the installation of Anaconda there is a choice to add these to the PATH by default, and if checked you can also use these commands on the regular command prompt. But the anaconda prompt will always work."
   ]
  },
  {
   "cell_type": "markdown",
   "metadata": {},
   "source": [
    "### Anaconda Promp Cheat Sheet "
   ]
  },
  {
   "cell_type": "markdown",
   "metadata": {},
   "source": [
    "Here you can find a [cheat sheet](https://conda.io/projects/conda/en/latest/user-guide/cheatsheet.html)"
   ]
  },
  {
   "cell_type": "markdown",
   "metadata": {},
   "source": [
    "Here is a list of commands you will most likely use during this class:\n",
    "- Verify Conda is installed and check version number       **conda info** \n",
    "- Update Anaconda                                          **conda update anaconda**\n",
    "- List packages and versions                               **conda list** \n",
    "- Get conda version                                        **conda -V   or conda --version** \n",
    "- Get python version                                       **python -V   or python --version** "
   ]
  }
 ],
 "metadata": {
  "kernelspec": {
   "display_name": "Python 3",
   "language": "python",
   "name": "python3"
  },
  "language_info": {
   "codemirror_mode": {
    "name": "ipython",
    "version": 3
   },
   "file_extension": ".py",
   "mimetype": "text/x-python",
   "name": "python",
   "nbconvert_exporter": "python",
   "pygments_lexer": "ipython3",
   "version": "3.7.1"
  }
 },
 "nbformat": 4,
 "nbformat_minor": 4
}
