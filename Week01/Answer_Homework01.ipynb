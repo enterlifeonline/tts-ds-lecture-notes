{
 "cells": [
  {
   "cell_type": "markdown",
   "metadata": {},
   "source": [
    "# Answers to Homework 1"
   ]
  },
  {
   "cell_type": "markdown",
   "metadata": {},
   "source": [
    "1. Accept the user's first and last name and print them in reverse order with a space between them"
   ]
  },
  {
   "cell_type": "code",
   "execution_count": 2,
   "metadata": {},
   "outputs": [
    {
     "name": "stdout",
     "output_type": "stream",
     "text": [
      "Input your First Name : TechTalent\n",
      "Input your Last Name : South\n",
      "Hello  South TechTalent\n"
     ]
    }
   ],
   "source": [
    "fname = input(\"Input your First Name : \")\n",
    "lname = input(\"Input your Last Name : \")\n",
    "print (\"Hello  \" + lname + \" \" + fname)"
   ]
  },
  {
   "cell_type": "markdown",
   "metadata": {},
   "source": [
    "2. Accept an integer (n) and compute the value of n+nn+nnn"
   ]
  },
  {
   "cell_type": "code",
   "execution_count": 1,
   "metadata": {},
   "outputs": [
    {
     "name": "stdout",
     "output_type": "stream",
     "text": [
      "Please enter an integer:2\n",
      "246\n"
     ]
    }
   ],
   "source": [
    "# Here is a solution you might do \n",
    "n = int(input(\"Please enter an integer:\"))\n",
    "nn = n*11\n",
    "nnn = n*111\n",
    "print(n + nn + nnn)"
   ]
  },
  {
   "cell_type": "code",
   "execution_count": 3,
   "metadata": {},
   "outputs": [
    {
     "name": "stdout",
     "output_type": "stream",
     "text": [
      "Input an integer : 2\n",
      "246\n"
     ]
    }
   ],
   "source": [
    "# Here is a solution I want you to look at and figure out how it is working\n",
    "a = int(input(\"Input an integer : \"))\n",
    "n1 = int( \"%s\" % a )\n",
    "n2 = int( \"%s%s\" % (a,a) )\n",
    "n3 = int( \"%s%s%s\" % (a,a,a) )\n",
    "print (n1+n2+n3)"
   ]
  },
  {
   "cell_type": "markdown",
   "metadata": {},
   "source": [
    "3. Ask the user \"What country are you from?\" then print the following statement: \"I have heard that [input] is a beautiful country!\""
   ]
  },
  {
   "cell_type": "code",
   "execution_count": 4,
   "metadata": {},
   "outputs": [
    {
     "name": "stdout",
     "output_type": "stream",
     "text": [
      "What country are you from: Australia\n",
      "I have heard that Australia is a beautiful country.\n"
     ]
    }
   ],
   "source": [
    "country  = str(input(\"What country are you from: \"))\n",
    "\n",
    "print('I have heard that '+ country + ' is a beautiful country.')"
   ]
  },
  {
   "cell_type": "markdown",
   "metadata": {},
   "source": [
    "4. What is the output and explain why"
   ]
  },
  {
   "cell_type": "code",
   "execution_count": 5,
   "metadata": {},
   "outputs": [
    {
     "name": "stdout",
     "output_type": "stream",
     "text": [
      "182.0\n"
     ]
    }
   ],
   "source": [
    "x = 36 / 4 * (3 +  2) * 4 + 2\n",
    "print(x)"
   ]
  },
  {
   "cell_type": "markdown",
   "metadata": {},
   "source": [
    "To choose the correct answer, You must know the operator precedence and associativity. I was taught PEMDAS. Here is a good link as well https://www.mathcs.emory.edu/~valerie/courses/fall10/155/resources/op_precedence.html \n",
    "\n",
    "First you do what is in the parentheses \n",
    "x = 36 / 4 * (5) * 4 + 2 \n",
    "then you just go in order from above.The order of operations requires that all multiplication and division be performed first, going from left to right in the expression. The order in which you compute multiplication and division is determined by which one comes first, reading from left to right."
   ]
  },
  {
   "cell_type": "markdown",
   "metadata": {},
   "source": [
    "6. An immutable object is an object that cannot be modified. That means once created its state cannot be changed. It will represent the same value once created. For Example — String is immutable in python. A string object will always represent the same value, it can’t be modified. For example — The string object ‘h’ will always represent the python value h. No matter what happens!First a pointed to the string \"Marissa\". Then you changed the variable a to point at a new string \"Marissa is the best\". You didn't actually mutate the string \"Marissa\". Strings are immutable, variables can point at whatever they want."
   ]
  },
  {
   "cell_type": "code",
   "execution_count": 7,
   "metadata": {},
   "outputs": [
    {
     "name": "stdout",
     "output_type": "stream",
     "text": [
      "2160344553824\n",
      "2160271947568\n"
     ]
    }
   ],
   "source": [
    "x = \"hello\"\n",
    "print(id(x))\n",
    "x = \"help\"\n",
    "print(id(x))"
   ]
  },
  {
   "cell_type": "markdown",
   "metadata": {},
   "source": [
    "Since the string object ‘hello’ is different from the string object ‘help’. The function id returns different unique ids. This implies that the memory location where these objects are stored is different and these are two different objects."
   ]
  }
 ],
 "metadata": {
  "kernelspec": {
   "display_name": "Python 3",
   "language": "python",
   "name": "python3"
  },
  "language_info": {
   "codemirror_mode": {
    "name": "ipython",
    "version": 3
   },
   "file_extension": ".py",
   "mimetype": "text/x-python",
   "name": "python",
   "nbconvert_exporter": "python",
   "pygments_lexer": "ipython3",
   "version": "3.7.1"
  }
 },
 "nbformat": 4,
 "nbformat_minor": 4
}
