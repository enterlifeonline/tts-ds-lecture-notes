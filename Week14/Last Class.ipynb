{
 "cells": [
  {
   "cell_type": "markdown",
   "metadata": {},
   "source": [
    "So the class is over, what do I do now? My below advice is specifically catered to my students who are applying to jobs and/or educational programs "
   ]
  },
  {
   "cell_type": "markdown",
   "metadata": {},
   "source": [
    "## Figure out your end goal specifically. "
   ]
  },
  {
   "cell_type": "markdown",
   "metadata": {},
   "source": [
    "#### Applying for job? \n",
    "1. You need to specifically go and look for TEN job applications that you would possibly like to apply for, and mark down what skills you need to meet EVERY requirement. \n",
    "2. Once you narrow down a few companies you would like to apply for start friending people on linked in and reach out to them \n",
    "3. Create TWO different resumes. One should be catered for ATS and one that is about more reflective of your personality\n",
    "4. Prepare your git hub for the industy you would like to be in\n",
    "\n",
    "#### Applying for an educational program? \n",
    "1. Review the requirements to get into your program \n",
    "2. Reach out to people on linked in who have gone through the program \n",
    "3. Prepare your git hub with an assortment of projects \n",
    "\n",
    "\n",
    "Everyone's learning path with look different becuase your path MUST be catered towards your goals "
   ]
  },
  {
   "cell_type": "markdown",
   "metadata": {},
   "source": [
    "## Statistics / Algorithms"
   ]
  },
  {
   "cell_type": "markdown",
   "metadata": {},
   "source": [
    "Getting a good grasp on statistics is critical in the data science world Here are some resources I reccommend \n",
    "- BOOK | Naked Statistics by Charles Wheelan \n",
    "- BOOK | Weapons of Math Destruction by Cathy O'Neil\n",
    "- FREE COURSE | [Geogria Tech Course](https://mediaspace.gatech.edu/playlist/dedicated/74258101/1_g5xwvbde/1_iw8fk73m)\n",
    "- FREE COURSE | [Khan Academy Course](https://www.khanacademy.org/math/statistics-probability)\n",
    "- FREE COURSE | [YouTube](https://www.youtube.com/channel/UCtYLUTtgS3k1Fg4y5tAhLbw)"
   ]
  },
  {
   "cell_type": "markdown",
   "metadata": {},
   "source": [
    "## Choose between Python or R for your first year of Learning ( trust me ) "
   ]
  },
  {
   "cell_type": "markdown",
   "metadata": {},
   "source": [
    "At this point you have the basics and you just need to keep practicing. I highly reccommend projects and then using an app like Brilliant in order to test yourself daily on knowledge. You also still have hacker rank and I would reccomend to continue taking thier quizzes. "
   ]
  },
  {
   "cell_type": "markdown",
   "metadata": {},
   "source": [
    "- APP | [Brilliant](https://brilliant.org/)\n",
    "- Projects (not free) | [Data Quest](https://www.dataquest.io/data-science-projects/)\n",
    "- Projects | [Real Python](https://realpython.com/tutorials/projects/)\n",
    "- Free Begineers Class | [Google Python Class](https://developers.google.com/edu/python/regular-expressions)\n"
   ]
  },
  {
   "cell_type": "markdown",
   "metadata": {},
   "source": [
    "## SQL "
   ]
  },
  {
   "cell_type": "markdown",
   "metadata": {},
   "source": [
    "The better you are at Python and SQL, the easier your life will be when it comes to data collection, manipulation, and implementation. \n",
    "1. Learn how the SELECT statement works. This includes studying how Logical Query Processing works. Logical Query Processing describes the order in which the database engine executes the clauses of your SELECT statements. Understanding it will lead you to write better, more accurate queries.\n",
    "2. Study how joins work. Inner joins are the most efficient. Left, right, and full outer joins are less efficient, but sometimes you must use them. Inner joins can cause rows to be filtered out, outer joins cannot cause filtering. Study joins so you know when to use each type. Only the simplest database queries don’t involve joins.\n",
    "3. Understand how to conduct aggregations using the GROUP BY clause.\n",
    "4. Understand Window Functions / Ordered Analytical Functions. These are the epitome of conducting analytics within SQL. It will initially be hard to wrap your head around them, but it will be worth it. And once you understand them you will use them all the time.\n",
    "5. Understand database normalization. If you understand normalization, you will understand the theory of why architects structure databases the way they do. This helps while writing queries and determining which tables to join.\n",
    "6. Understand how Entity-Relationship Diagrams (ERDs) work. Most ERDs are built using the crow’s foot notation. Be sure to know how cardinality and optionality constraints work, which will help you decipher which join type to use when joining tables.\n",
    "7. Once you get up to speed with those things, you should probably expand into learning the DML & DDL subcategories of SQL. DML stand for Data Manipulation Language, which the SELECT statement is part of. DDL stands for Data Definition Language, which is what database architects use to create tables. "
   ]
  },
  {
   "cell_type": "markdown",
   "metadata": {},
   "source": [
    "I reccomend this [Free Course](https://mode.com/sql-tutorial/) "
   ]
  },
  {
   "cell_type": "markdown",
   "metadata": {},
   "source": [
    "## Linear Algebra Fundamentals "
   ]
  },
  {
   "cell_type": "markdown",
   "metadata": {},
   "source": [
    "This [Free Course](https://www.khanacademy.org/math/linear-algebra) should be really all you need for the level you are at "
   ]
  },
  {
   "cell_type": "markdown",
   "metadata": {},
   "source": [
    "## Read and Listen "
   ]
  },
  {
   "cell_type": "markdown",
   "metadata": {},
   "source": [
    "If you are not already in a technical position where you get to easily stay up to date on what is going on in the tech world then podcast need to be your best friend! Also books are a great way to really get a deeper sense of knowledge. Here are my favorites \n",
    "- BOOK | Ultralearning By Scott Young, WOW this ia great book that can help you navigate the way you learn \n",
    "- BOOK | The Phoenix Project , this book really helped me get a deep understanding on how tech companies work \n",
    "- BOOK | Storytelling with Data, This book is essential if you plan on work with visualizations \n",
    "- BOOK | Thinking with Data by Max Shron, this is a good quick read! \n",
    "- PODCAST | Linear Digressions \n",
    "- PODCAST | Super DataScience \n",
    "- PODCAST | This Week In Machine Learning and Artificial Intelligince "
   ]
  },
  {
   "cell_type": "markdown",
   "metadata": {},
   "source": [
    "## Your New Daily Habits "
   ]
  },
  {
   "cell_type": "markdown",
   "metadata": {},
   "source": [
    "Choose an option ( or more than one ): \n",
    "- Do a segment on the Brilliant App \n",
    "- Divide a book into 30 equal sections, and read one section a day \n",
    "- Listen to one podcast \n",
    "- Spen 30 minutes to an hour on your current project "
   ]
  },
  {
   "cell_type": "markdown",
   "metadata": {},
   "source": [
    "## Your New Weekly Habits "
   ]
  },
  {
   "cell_type": "markdown",
   "metadata": {},
   "source": [
    "\n",
    "- Create your \"dream\" resume and review it weekly to see where you are at \n",
    "- Reach out to someone on Linked In who is in the field you would like to be in or in the program you would like to be in"
   ]
  },
  {
   "cell_type": "markdown",
   "metadata": {},
   "source": [
    "## Your New Monthly Goals \n",
    "- Add atleast one completed project to your git hub repo a month\n",
    "- Make a post on your linked in that is Data Science Related "
   ]
  },
  {
   "cell_type": "code",
   "execution_count": null,
   "metadata": {},
   "outputs": [],
   "source": []
  }
 ],
 "metadata": {
  "kernelspec": {
   "display_name": "Python 3",
   "language": "python",
   "name": "python3"
  },
  "language_info": {
   "codemirror_mode": {
    "name": "ipython",
    "version": 3
   },
   "file_extension": ".py",
   "mimetype": "text/x-python",
   "name": "python",
   "nbconvert_exporter": "python",
   "pygments_lexer": "ipython3",
   "version": "3.7.1"
  }
 },
 "nbformat": 4,
 "nbformat_minor": 4
}
