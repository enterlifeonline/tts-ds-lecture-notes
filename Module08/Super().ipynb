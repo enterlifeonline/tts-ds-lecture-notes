{
 "cells": [
  {
   "cell_type": "markdown",
   "metadata": {},
   "source": [
    "# Python super() function "
   ]
  },
  {
   "cell_type": "markdown",
   "metadata": {},
   "source": [
    "Python super() function allows us to refer to the parent class explicitly. It’s useful in case of inheritance where we want to call super class functions.So, Python super makes our task easier and comfortable. While referring the superclass from the subclass, we don’t need to write the name of superclass explicitly. super() alone returns a temporary object of the superclass that then allows you to call that superclass’s methods.\n",
    "\n",
    "Why would you want to do any of this? While the possibilities are limited by your imagination, a common use case is building classes that extend the functionality of previously built classes.\n",
    "\n",
    "Calling the previously built methods with super() saves you from needing to rewrite those methods in your subclass, and allows you to swap out superclasses with minimal code changes."
   ]
  },
  {
   "cell_type": "markdown",
   "metadata": {},
   "source": [
    "### Example"
   ]
  },
  {
   "cell_type": "code",
   "execution_count": 1,
   "metadata": {},
   "outputs": [
    {
     "name": "stdout",
     "output_type": "stream",
     "text": [
      "23\n",
      "102\n",
      "Max\n"
     ]
    }
   ],
   "source": [
    "\n",
    "class Person:\n",
    "    # initializing the variables\n",
    "    name = \"\"\n",
    "    age = 0\n",
    "\n",
    "    # defining constructor\n",
    "    def __init__(self, person_name, person_age):\n",
    "        self.name = person_name\n",
    "        self.age = person_age\n",
    "\n",
    "        # defining class methods\n",
    "\n",
    "    def show_name(self):\n",
    "        print(self.name)\n",
    "\n",
    "    def show_age(self):\n",
    "        print(self.age)\n",
    "\n",
    "\n",
    "# definition of subclass starts here\n",
    "class Student(Person):\n",
    "    studentId = \"\"\n",
    "\n",
    "    def __init__(self, student_name, student_age, student_id):\n",
    "        Person.__init__(self, student_name, student_age)\n",
    "        self.studentId = student_id\n",
    "\n",
    "    def get_id(self):\n",
    "        return self.studentId  # returns the value of student id\n",
    "\n",
    "\n",
    "# end of subclass definition\n",
    "\n",
    "\n",
    "# Create an object of the superclass\n",
    "person1 = Person(\"Richard\", 23)\n",
    "# call member methods of the objects\n",
    "person1.show_age()\n",
    "# Create an object of the subclass\n",
    "student1 = Student(\"Max\", 22, \"102\")\n",
    "print(student1.get_id())\n",
    "student1.show_name()\n"
   ]
  },
  {
   "cell_type": "code",
   "execution_count": null,
   "metadata": {},
   "outputs": [],
   "source": [
    "# This is how we have called the parent class funstion above\n",
    "Person.__init__(self, student_name, student_age) \n",
    "\n",
    "# This is how we can do it using super()\n",
    "\n",
    "super().__init__(student_name, student_age)"
   ]
  },
  {
   "cell_type": "markdown",
   "metadata": {},
   "source": [
    "For more explanation lets head over to real python!! ( A great source for answering your questions in the future )"
   ]
  }
 ],
 "metadata": {
  "kernelspec": {
   "display_name": "Python 3",
   "language": "python",
   "name": "python3"
  },
  "language_info": {
   "codemirror_mode": {
    "name": "ipython",
    "version": 3
   },
   "file_extension": ".py",
   "mimetype": "text/x-python",
   "name": "python",
   "nbconvert_exporter": "python",
   "pygments_lexer": "ipython3",
   "version": "3.7.6"
  }
 },
 "nbformat": 4,
 "nbformat_minor": 4
}
