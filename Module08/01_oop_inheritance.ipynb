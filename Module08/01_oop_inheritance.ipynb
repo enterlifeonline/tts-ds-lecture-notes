{
 "cells": [
  {
   "cell_type": "markdown",
   "metadata": {
    "colab_type": "text",
    "id": "ckl7mcSK4JJm"
   },
   "source": [
    "\n",
    "- - - \n",
    "<!--NAVIGATION-->\n",
    "Module 8. | **[Inheritance & Methods](./01_oop_inheritance.ipynb)** | [Half Way Knowledge Test](./04_Half_Way_Review.ipynb) | [Homework Answers](./03_inheritance_methods_exercises.ipynb)"
   ]
  },
  {
   "cell_type": "markdown",
   "metadata": {
    "colab_type": "text",
    "id": "vJKa_B7B4JKT"
   },
   "source": [
    "# Inheritance\n",
    "\n",
    "Inheritance allows us to reuse the code of an existing class `B`\n",
    "in creating a new class `C`.\n",
    "Let’s recap how the attribute lookup worked for classes.\n",
    "When looking for an attribute, the lookup procedure starts\n",
    "with the instance dictionary, and continues with the class\n",
    "attributes.\n",
    "If both fail, then the attribute is searched from the base\n",
    "classes and, recursively, from their base classes.\n",
    "\n",
    "So, it may look like we access an attribute of a class `C`, when\n",
    "in reality we are accessing the attribute of its base class `B`.\n",
    "In this case we say that the class `C` *inherits* the attribute from\n",
    "its base class `B`.\n",
    "If we have attributes with the same name in both the class\n",
    "and its base class, the attribute of the base class is hidden.\n",
    "We say that the class `C` overrides the attribute of the base\n",
    "class `B`.\n",
    "Terminology: `B` is a base class and `C` is a derived class.\n",
    "\n",
    "Example:"
   ]
  },
  {
   "cell_type": "code",
   "execution_count": 1,
   "metadata": {
    "colab": {},
    "colab_type": "code",
    "id": "6ejQQ0mQ4JKU",
    "outputId": "4ff9fd09-0a67-4565-e9a0-1f1852002221"
   },
   "outputs": [],
   "source": [
    "class B(object):\n",
    "    def f(self):\n",
    "        print(\"Executing B.f\")\n",
    "    def g(self):\n",
    "        print(\"Executing B.g\")\n",
    "    \n",
    "class C(B):\n",
    "     def g(self):\n",
    "         print(\"Executing C.g\")"
   ]
  },
  {
   "cell_type": "markdown",
   "metadata": {
    "colab_type": "text",
    "id": "aypiGWJ-4JKX"
   },
   "source": [
    "A derived class is sometimes also called a *subclass* and the\n",
    "base class is called *super class*.\n",
    "The inheritance relation of two classes `B` and `C` can be tested\n",
    "with function `issubclass`:\n",
    "`issubclass(C,B)==True` but `issubclass(B,C)==False`\n",
    "Function `isinstance(obj, cls)` allows us to test whether\n",
    "an instance has type `cls` or has an ancestor class of type `cls`.\n",
    "Let’s create instances `x=C()` and `y=B()`.\n",
    "Now we have `isinstance(x,B)==\n",
    "isinstance(x,C)==isinstance(y,B)==True`.\n",
    "But `isinstance(y,C)==False`."
   ]
  },
  {
   "cell_type": "code",
   "execution_count": 2,
   "metadata": {},
   "outputs": [],
   "source": [
    "x=C()"
   ]
  },
  {
   "cell_type": "code",
   "execution_count": 3,
   "metadata": {},
   "outputs": [
    {
     "name": "stdout",
     "output_type": "stream",
     "text": [
      "Executing B.f\n"
     ]
    }
   ],
   "source": [
    "x.f() # inherited from B"
   ]
  },
  {
   "cell_type": "code",
   "execution_count": 4,
   "metadata": {},
   "outputs": [
    {
     "name": "stdout",
     "output_type": "stream",
     "text": [
      "Executing C.g\n"
     ]
    }
   ],
   "source": [
    "\n",
    "x.g() # overridden by C"
   ]
  },
  {
   "cell_type": "markdown",
   "metadata": {},
   "source": [
    "### Dunder [```__mro__```](https://www.geeksforgeeks.org/method-resolution-order-in-python-inheritance/)"
   ]
  },
  {
   "cell_type": "markdown",
   "metadata": {},
   "source": [
    "mro() stands for Method Resolution Order. It returns a list of types the class is derived from, in the order they are searched for methods."
   ]
  },
  {
   "cell_type": "code",
   "execution_count": 5,
   "metadata": {},
   "outputs": [
    {
     "name": "stdout",
     "output_type": "stream",
     "text": [
      "(<class '__main__.B'>, <class 'object'>)\n",
      "[<class '__main__.C'>, <class '__main__.B'>, <class 'object'>]\n"
     ]
    }
   ],
   "source": [
    "print(B.__mro__)\n",
    "print(C.mro())"
   ]
  },
  {
   "attachments": {
    "image.png": {
     "image/png": "[encoded data removed]"
    }
   },
   "cell_type": "markdown",
   "metadata": {},
   "source": [
    "![image.png](attachment:image.png)"
   ]
  },
  {
   "cell_type": "markdown",
   "metadata": {
    "colab_type": "text",
    "id": "6KCTyjQZ4JKX"
   },
   "source": [
    "![inheritance hierarchy](https://github.com/csmastersUH/data_analysis_with_python_spring_2020/blob/master/inheritance_hierarchy.svg?raw=1)"
   ]
  },
  {
   "cell_type": "markdown",
   "metadata": {
    "colab_type": "text",
    "id": "AKT4oVtL4JKY"
   },
   "source": [
    "`object` should be a base class or an ancestor class of every\n",
    "other class.\n",
    "This means that `isinstance(x, object)==True` for all\n",
    "instances `x`.\n",
    "\n",
    "By deriving from an existing class we can modify and/or\n",
    "extend its behaviour, without touching the original class.\n",
    "For example, if we want to add one method to a list class,\n",
    "we can use inheritance. Therefore we have to only code the\n",
    "part that has changed and reuse the rest of the code of type\n",
    "list.\n",
    "Another use of inheritance is to create conceptual hierarchies.\n",
    "For instance, later we will learn about the exception hierarchy\n",
    "of Python.\n",
    "Third use would be to use classes to create interfaces. There\n",
    "can be several classes that have same interface (that is, they\n",
    "offer the same attributes), but their behaviour or\n",
    "implementation can be very different. This allows changing a\n",
    "part of your program with minimal changes required elsewhere\n",
    "in the code.\n",
    "\n",
    "If in the definition of the method `C.f` we need to call the\n",
    "corresponding method of class `A`, we can use the fully qualified\n",
    "call `A.f(...)`.\n",
    "This is called delegation.\n",
    "It is useful, for instance, when you want to call the init\n",
    "method of the base class from the init of the derived\n",
    "class to initialise the base class attributes."
   ]
  },
  {
   "cell_type": "markdown",
   "metadata": {
    "colab_type": "text",
    "id": "0SiDXpHq4JKY"
   },
   "source": [
    "### Special methods\n",
    "\n",
    "We have already encountered one special method, namely the\n",
    "`__init__` method.\n",
    "This method sets the instance attributes to some initial value.\n",
    "Its first parameter is `self`, and the subsequent parameters\n",
    "are the ones that were passed to the call of the class.\n",
    "The `__init__` method should return no value.\n",
    "Next the main general purpose special\n",
    "methods are introduced.\n",
    "They are executed when certain operations on objects are\n",
    "performed.\n",
    "\n",
    "In the following, `C` is a class and `x` and `y` are its instances.\n",
    "`__hash__` returns an int value, with the following\n",
    "requirement: `x==y` implies `x.__hash__() == y.__hash__()`.\n",
    "The value is used in storing objects in dictionaries and sets.\n",
    "The instances `x` and `y` must be immutable\n",
    "A class with `__call__` method makes its instances callable.\n",
    "I.e. the call `x(a,b, ...)` will result in calling this special\n",
    "method with the given parameters.\n",
    "The method `__del__` gets called when the corresponding\n",
    "instance gets deleted.\n",
    "Method `__new__` is used to control the creation of new\n",
    "instances. It can be used, for example, to create classes that\n",
    "have only one instance.\n",
    "\n",
    "The method `__str__` is called when the print statement needs\n",
    "to print the value of an instance. It returns a string. The\n",
    "print-format expression calls this for conversion `%s`.\n",
    "The method `__repr__` is called when the interactive interpreter\n",
    "prints the value of an evaluated expression, and when the\n",
    "conversion `%r` for print-format expression is used. Returns a\n",
    "canonical representation string that (at least in theory) can be\n",
    "used to recreate the original object.\n",
    "Special methods `__eq__`, `__ge__`, `__gt__`, `__le__`, `__lt__`, and\n",
    "`__ne__` get called when the corresponding operators `x==y`,\n",
    "`x>=y`, `x>y`, `x<=y`, `x<y`, and `x!=y` are used.\n",
    "\n",
    "If you want the instances of your class to support the numeric\n",
    "operations (like +, -, *, /, etc), you must define a set of\n",
    "special methods in you class.\n",
    "For example, the expression `x+y` will result in a call\n",
    "`x.__add__(y)` which should return the result of the operation.\n",
    "Here are a few of the most common numerical special\n",
    "methods:\n",
    "\n",
    "|Method|Description|\n",
    "|---|------------|\n",
    "|`__add__` | addition (+) |\n",
    "|`__sub__` | subtraction (-) |\n",
    "|`__mul__` | multiplication (*) |\n",
    "|`__truediv__` | division (/) |\n",
    "|`__floordiv__` | division (//) |\n",
    "-----------------------\n",
    "\n",
    "The corresponding augmented assignments += -= *= /=\n",
    "have special methods iadd , isub , imul , idiv.\n",
    "The conversion functions complex(), float(), int() and\n",
    "long() call the following special methods:\n",
    "\n",
    "|Method|Description|\n",
    "|------|-----------|\n",
    "|`__complex__` | convert to a complex number|\n",
    "|`__float__` | convert to a float|\n",
    "|`__int__` | convert to an integer|\n",
    "\n",
    "In addition to the normal methods of containers, like the\n",
    "`append` method of the list, there are several operations that\n",
    "are handled by calls to special methods of the container class.\n",
    "The test whether `x` is a member of container `c` is done by the\n",
    "operation `x in c`. The corresponding special method call is\n",
    "`x.__contains__(y)`.\n",
    "Deletion of an element of container `c` can be done with the\n",
    "operation `del c[key]`. This will result in the method call\n",
    "`x.__delitem__`.\n",
    "\n",
    "Reading an item of a container `c` is done with the operation\n",
    "`c[key]`. The corresponding method call is\n",
    "`c.__getitem__(key)`.\n",
    "Similarly, setting an item with `c[key]=value` results in the\n",
    "call `c.__setitem__(key,value)`.\n",
    "The number of elements in a container `c` can be queried with\n",
    "the function call `len(c)`. This function call actually calls the\n",
    "special method `c.__len__`.\n",
    "The call `iter(c)` will call the special method `__iter__`. "
   ]
  },
  {
   "cell_type": "code",
   "execution_count": null,
   "metadata": {},
   "outputs": [],
   "source": [
    "Dunder"
   ]
  },
  {
   "cell_type": "code",
   "execution_count": null,
   "metadata": {},
   "outputs": [],
   "source": [
    "class A: \n",
    "    def rk(self): \n",
    "        print(\" In class A\") \n",
    "class B: \n",
    "    def rk(self): \n",
    "        print(\" In class B\") \n",
    "  \n",
    "# classes ordering \n",
    "class C(A, B): \n",
    "    def __init__(self): \n",
    "        print(\"Constructor C\") \n",
    "  \n",
    "r = C() \n",
    "  \n",
    "# it prints the lookup order  \n",
    "print(C.__mro__) \n",
    "print(C.mro()) "
   ]
  }
 ],
 "metadata": {
  "colab": {
   "name": "basics2.ipynb",
   "provenance": []
  },
  "kernelspec": {
   "display_name": "Python 3",
   "language": "python",
   "name": "python3"
  },
  "language_info": {
   "codemirror_mode": {
    "name": "ipython",
    "version": 3
   },
   "file_extension": ".py",
   "mimetype": "text/x-python",
   "name": "python",
   "nbconvert_exporter": "python",
   "pygments_lexer": "ipython3",
   "version": "3.7.1"
  },
  "varInspector": {
   "cols": {
    "lenName": 16,
    "lenType": 16,
    "lenVar": 40
   },
   "kernels_config": {
    "python": {
     "delete_cmd_postfix": "",
     "delete_cmd_prefix": "del ",
     "library": "var_list.py",
     "varRefreshCmd": "print(var_dic_list())"
    },
    "r": {
     "delete_cmd_postfix": ") ",
     "delete_cmd_prefix": "rm(",
     "library": "var_list.r",
     "varRefreshCmd": "cat(var_dic_list()) "
    }
   },
   "types_to_exclude": [
    "module",
    "function",
    "builtin_function_or_method",
    "instance",
    "_Feature"
   ],
   "window_display": false
  }
 },
 "nbformat": 4,
 "nbformat_minor": 1
}
